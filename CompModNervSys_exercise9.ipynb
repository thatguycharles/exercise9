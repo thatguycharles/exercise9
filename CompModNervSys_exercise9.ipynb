{
  "cells": [
    {
      "attachments": {},
      "cell_type": "markdown",
      "metadata": {
        "colab_type": "text",
        "id": "view-in-github"
      },
      "source": [
        "<a href=\"https://colab.research.google.com/github/CompModNervSystem/CompModNervSys-BallAndStickSynapses/blob/main/CompModNervSys_exercise9.ipynb\" target=\"_parent\"><img src=\"https://colab.research.google.com/assets/colab-badge.svg\" alt=\"Open In Colab\"/></a>"
      ]
    },
    {
      "attachments": {},
      "cell_type": "markdown",
      "metadata": {
        "id": "tSawaquoIBf9"
      },
      "source": [
        "# BIOL 74.03 (SP23): Computational Modeling of the Nervous System \n",
        "# Exercise 9: Simulating synaptic inputs to ball-and-stick neuron models\n",
        "\n",
        "### Exercise goals\n",
        "\n",
        "1) Implement conductance based models of fast excitatory (AMPA) and inhibitory (GABAA) synapses\n",
        "\n",
        "2) Understand how dendrites spatially and temporally filter synaptic inputs \n",
        "\n",
        "3) Describe the divisive and subtractive properties of shunting inhibition\n",
        "\n",
        "Neurons receive thousands of synapses distributed along their dendritic trees, each of which genereate either excitatory or inhibitory postsynaptic currents that act to increase or decrease, respectively, the postsynaptic potential. At any given moment, neurons are bombarded by tens of thousands of synaptic currents pulling the membrane voltage up and down throughout their extended arbors, culminating in the generation of action potentials when the action potential threshold voltage (remember, not a fixed value!) is reached at the soma and axon initial segment. \n",
        "\n",
        "It may seem as though all these complicated interactions are just a prelude to the single important \"decision\" made by the neuron, whether or not to fire an AP. Indeed, early computational work and modern artificial neural networks treat neurons as simple integrators (i.e., non-leaky integrate and fire), simply summing their inputs and generating an output once a threshold is crossed, but how closely does this picture resemble real neurons? \n",
        "\n",
        "It turns out the combination of dendritic cable properties and synaptic conductance changes leads to a variety of intradendritic computations, allowing for amplification, vetoing, modulation, mixing, and more, of the information a neuron receives throughout its elaborate dendritic architecture. In this exercise, we'll explore just a couple of questions along this vein: How does the location and timing of a synaptic input alter its effects on the postsynaptic neuron's output? How do excitatory and inhibitory inputs interact to generate the net output? \n",
        "\n",
        "Work through the code below, running each cell, adding code where required, and making sure you understand the output. When you see questions with <span style=\"color:red\">***Q:*** </span> preceding them, write your responses in text cells. \n"
      ]
    },
    {
      "attachments": {},
      "cell_type": "markdown",
      "metadata": {},
      "source": [
        "We'll first install neuron as usual."
      ]
    },
    {
      "cell_type": "code",
      "execution_count": null,
      "metadata": {},
      "outputs": [],
      "source": [
        "%pip install neuron # only need to run this cell once to install \n",
        "                    # neuron in the local jupyter environment"
      ]
    },
    {
      "attachments": {},
      "cell_type": "markdown",
      "metadata": {},
      "source": [
        "Run the code block below just once to get all the files from the repository into our colab session and compile the MOD mechanism files we'll be using "
      ]
    },
    {
      "cell_type": "code",
      "execution_count": null,
      "metadata": {},
      "outputs": [],
      "source": [
        "import os\n",
        "import shutil\n",
        "if not os.path.exists('CompModNervSys-BallAndStickSynapses'):\n",
        "    !git clone https://github.com/CompModNervSystem/CompModNervSys-BallAndStickSynapses.git # downloads repository into our Google colab session's file system    \n",
        "\n",
        "shutil.copy('CompModNervSys-BallAndStickSynapses/ballandstick.py','./'); # Copy files to local directory for easier importing\n",
        "\n",
        "!nrnivmodl CompModNervSys-BallAndStickSynapses/mechanisms"
      ]
    },
    {
      "attachments": {},
      "cell_type": "markdown",
      "metadata": {},
      "source": [
        "Now we can import the packages we'll be using"
      ]
    },
    {
      "cell_type": "code",
      "execution_count": null,
      "metadata": {},
      "outputs": [],
      "source": [
        "from neuron import h # all NEURON hoc functions are accessed through h\n",
        "from neuron import gui # if you're running this notebook in a local environment (instead of on google colab), launches the GUI\n",
        "h.load_file('stdrun.hoc') # loads neuron standard hoc library, not always necessary \n",
        "import numpy as np\n",
        "import matplotlib.pyplot as plt\n",
        "import plotly\n",
        "plotly.offline.init_notebook_mode()\n",
        "if 'google.colab' in str(get_ipython()):\n",
        "    from google.colab import output\n",
        "    output.enable_custom_widget_manager()\n"
      ]
    },
    {
      "attachments": {},
      "cell_type": "markdown",
      "metadata": {},
      "source": [
        "# Passive spatial and temporal filtering of synaptic potentials\n",
        "\n",
        "So far, we've modeled a single point neurons with leaky-integrate and fire membranes, space clamped axons with hodgkin-huxley conductances, and single dendrite/axon branches. Following the pattern, we'll add some more complexity by modeling a \"ball-and-stick\" version of a neuron consisting of a cell body (the ball) and a single dendritic branch (the stick). This will allow us to simulate synaptic inputs at different locations within the dendrite. Dendritic branches also narrow in diameter along their length in the distal direction, so we'll capture that in our model by including a linear decrease in the dendrite's diameter from proximal to distal end. \n",
        "\n",
        "This is all wrapped in the pre-written cell class `BallAndStick` that you'll use in this exercise, imported from `ballandstick.py`. You can take a look at this file to see the structure of the class and default parameters, and necessary functions will be introduced as we go. \n",
        "\n",
        "First, `BallAndStick` takes two arguments, the cell's global id or `gid`, which is necessary for large-scale network simulations where each neuron has a unique id. For now, this is mostly cosmetic. The second argument allows you to make the model either purely passive (no spiking mechanism) by passing the string `'passive'`, or add a leaky-integrate-and-fire mechanism in the soma by passing the string `'LIF'`. We'll start by making a passive model and use the leaky-integrate-and-fire mechanism in the latter part of this exercise. \n",
        "\n",
        "Run the code cell below to generate the passive ball-and-stick model and print its topology."
      ]
    },
    {
      "cell_type": "code",
      "execution_count": null,
      "metadata": {},
      "outputs": [],
      "source": [
        "from ballandstick import BallAndStick\n",
        "\n",
        "cell = BallAndStick(0,'passive')\n",
        "\n",
        "h.topology()"
      ]
    },
    {
      "attachments": {},
      "cell_type": "markdown",
      "metadata": {},
      "source": [
        "\n",
        "<span style=\"color:red\">**Q1**: By inspecting `ballandstick.py` or accessing the variables directly, answer the following questions:\n",
        "What are $R_{m}$, $C_{m}$, and $R_{a}$ set to? What is the diameter and length of the soma section? What is the length of the dendrite and the start and end diameter? If you forgot, you can find the default units used by NEURON [here](https://www.neuron.yale.edu/neuron/static/docs/units/unitchart.html)\n",
        "\n",
        "</span>\n"
      ]
    },
    {
      "attachments": {},
      "cell_type": "markdown",
      "metadata": {},
      "source": []
    },
    {
      "attachments": {},
      "cell_type": "markdown",
      "metadata": {},
      "source": [
        "Ok, we have a cell model, but we still need a synapse, recording and stimulation instrumention, and to set our simulation parameters before we can run any simulations. Conveniently, the `BallAndStick` class handles setting up recording vectors for membrane potential and current in all compartments of the cell (see `BallAndStick._setup_recordings`). \n",
        "\n",
        "Next, to add a synapse, we could use NEURON's built in model of a biexponential synaptic conductance ([`Exp2Syn`](https://www.neuron.yale.edu/neuron/static/py_doc/modelspec/programmatic/mechanisms/mech.html#Exp2Syn)), but instead, we'll adapt a  published model that implements a more advanced version of this synaptic mechanism called `ProbAMPANMDA`. This model was generated by the Blue Brain Project (Markram et al. 2015), who themselves based it on previous literature (hopefully the extremely common pattern of building on existing models is becoming clear). \n",
        "\n",
        "`ProbAMPANMDA` incorporates a probabilistic model of synaptic vesicle release with short-term plasticity dynamics, allowing the synaptic conductance to either facilitate or depress based on its history of activity, as real synapses do. For the purposes of this exercise, this would serve as an additional complication, so we'll turn off this functionality and make the synapse deterministic (i.e., release probability of 1). You may also notice from the name, it includes both AMPA and NMDA conductance. Most glutamatergic synapses (excitatory synapses that use glutamate as their neurotransmitter) do contain both AMPA and NMDA receptors on the postsynaptic side, which are both activated at the same time by presynaptic glutamate release, making this a convenient computational approach to implementing glutamatergic synapses. We won't need the NMDA conductance for this exercise; however, one of the other reasons we're using this mechanism is because we will make use of this NMDA conductance in exercise 10, so stay tuned. \n",
        "\n",
        "## Making a synapse\n",
        "\n",
        "To generate a functional synaptic connection in NEURON, we need three things:\n",
        "\n",
        "1) a mechanism for calculating the postsynaptic conductance and current\n",
        "2) A presynaptic cell or artifical spike generator to trigger the synapse to open\n",
        "3) a `NetCon` object to link the presynaptic spikes to the postsynaptic conductance\n",
        "\n",
        "We'll take these one at a time. Starting with 1), we're using the `ProbAMPANMDA` mechanism mentioned above. When creating a synapse, we need to specify which compartment (or *segment*) of our neuron model to add this synapse. We'll start by adding a single AMPAergic synapse that we'll call `ampa_syn` to the middle of the dendrite (`x = 0.5`). We can then set the synaptic time constants, which are named `tau_r_AMPA` and `tau_d_AMPA`, and reversal potential, just named `e`. Finally, since we want a purely AMPAergic synapse, we turn off the NMDA component by setting `NMDA_ratio` to 0. Run the code block below before proceeding.  "
      ]
    },
    {
      "cell_type": "code",
      "execution_count": null,
      "metadata": {},
      "outputs": [],
      "source": [
        "# Create AMPA/NMDA synapse\n",
        "ampa_syn = h.ProbAMPANMDA(cell.dend(0.5))\n",
        "ampa_syn.tau_r_AMPA = 0.2 # ms\n",
        "ampa_syn.tau_d_AMPA = 1.7 # ms\n",
        "ampa_syn.e = 0\n",
        "ampa_syn.NMDA_ratio = 0 # turn off NMDA component to make this a purely AMPA synapse\n"
      ]
    },
    {
      "attachments": {},
      "cell_type": "markdown",
      "metadata": {},
      "source": [
        "For 2), we could model a second neuron to provide presynaptic inputs, but a handy (and more computationally efficient) way to simulate arbitrary patterns of presynaptic input is to create a [`NetStim`](https://www.neuron.yale.edu/neuron/static/py_doc/modelspec/programmatic/mechanisms/mech.html#NetStim) object. By looking at the documentation, you can see this class has the following parameters:\n",
        "\n",
        "`interval` ms (mean) time between spikes\n",
        "\n",
        "`number` (average) number of spikes\n",
        "\n",
        "`start` ms (most likely) start time of first spike\n",
        "\n",
        "`noise` ---- range 0 to 1. Fractional randomness. 0 deterministic, 1 intervals have negexp distribution.\n",
        "\n",
        "Set the appropriate parameters of `estim` below to apply a single stimulus at $5 \\; ms$. Make sure to set `noise` to 0 to make sure the spike always occur at exactly this time. "
      ]
    },
    {
      "cell_type": "code",
      "execution_count": null,
      "metadata": {},
      "outputs": [],
      "source": [
        "# Create NetStim object to generate artificial presynaptic events for the excitatory synapse\n",
        "estim = h.NetStim()\n",
        "# Set parameters of estim here\n"
      ]
    },
    {
      "attachments": {},
      "cell_type": "markdown",
      "metadata": {},
      "source": [
        "Lastly (3), we connect our `NetStim` object, which we called `estim`, to our synapse `ampa_syn` using a `NetCon`. Each `NetCon` has a `source` and `target`, which are input as the first two arguments. The `source` can be a spike generator (like a `NetStim`) or a presynaptic voltage (e.g., `cell.soma._ref_v`) that it watches for threshold crossings. If a spike occurs, it triggers the `target` mechanism (which should be a mechanism that has some way of handling incoming events). \n",
        "\n",
        "The code block below creates a `NetCon` object called `nc_estim` and sets its delay to a typical synaptic delay of $1\\; ms$ and its weight to 1, which works out to a peak conductance of $1 \\; nS$. "
      ]
    },
    {
      "cell_type": "code",
      "execution_count": null,
      "metadata": {},
      "outputs": [],
      "source": [
        "# Create NetCon object to connect the netstim presynaptic events to the postsynaptic conductance\n",
        "nc_estim = h.NetCon(estim,ampa_syn)\n",
        "nc_estim.delay = 1\n",
        "nc_estim.weight[0] = 1 # NetCon weight is a vector"
      ]
    },
    {
      "attachments": {},
      "cell_type": "markdown",
      "metadata": {},
      "source": [
        "Finally, we'll create some additional vectors to record the time, synaptic conductance, and current. We'll also define a helper function, as we did in the last exercise, to convert between `x` values (normalized distance along a cable) and the segment index (a number between `0` and `nseg-1`) within the dendrite."
      ]
    },
    {
      "cell_type": "code",
      "execution_count": null,
      "metadata": {},
      "outputs": [],
      "source": [
        "# Additional recording instrumentation\n",
        "t_vec = h.Vector().record(h._ref_t)\n",
        "gampa_vec = h.Vector().record(ampa_syn._ref_g) # record ampa conductance\n",
        "iampa_vec = h.Vector().record(ampa_syn._ref_i) # record ampa conductance\n",
        "\n",
        "# Define helper function to get index of recording for any position along axon\n",
        "dend_x_vals = np.array([seg.x for seg in cell.dend])\n",
        "\n",
        "def xind(vec,val):\n",
        "    # finds closest value to x in x_vals vector, outputs index    \n",
        "    # if x>1, outputs index for x = 1, and if x<0, outputs index for x = 0\n",
        "    return np.argmin(np.abs(vec-val))"
      ]
    },
    {
      "attachments": {},
      "cell_type": "markdown",
      "metadata": {},
      "source": [
        "We can visualize the morphology of the neuron and the location of this synapse using the `PlotShape` class combined with `plotly`'s interactive plots. The red dot indicates the location of the synapse. Note: diameters are not visualized in this plot.  Note: this plot probably won't be rendered properly in your final PDF, that's ok.\n",
        "\n",
        "You can move the synapse at any point using a method inherited from NEURON's `PointProcess` class called [`loc`](https://www.neuron.yale.edu/neuron/static/new_doc/modelspec/programmatic/mechanisms/mech.html#pnt.loc). To move the location, pass in the target `segment` of the model. Remember, *sections*, like `cell.soma` in our case, are divided into *segments*, e.g., `cell.soma(0.5)` for the middle segment of the section.\n",
        "\n",
        "Try moving the synapse and seeing the location of the red dot move in your plot below. "
      ]
    },
    {
      "cell_type": "code",
      "execution_count": null,
      "metadata": {},
      "outputs": [],
      "source": [
        "ampa_syn.loc(cell.dend(0.5))\n",
        "\n",
        "ps = h.PlotShape(False)\n",
        "fig = ps.plot(plotly).mark(ampa_syn.get_segment())\n",
        "plotly.io.show(fig)"
      ]
    },
    {
      "attachments": {},
      "cell_type": "markdown",
      "metadata": {},
      "source": [
        "Finally, the function `run_and_plot`  below runs the simulation and plots the voltage/membrane current in the soma and at the location of the synapse, as well as the local synaptic conductance. Note the voltage plots are relative to rest so we can visualize the change in potential generated by the synapse. \n",
        "\n",
        "Run the code block below to instantiate it."
      ]
    },
    {
      "cell_type": "code",
      "execution_count": null,
      "metadata": {},
      "outputs": [],
      "source": [
        "def run_and_plot(cell,gsyn_vec,x_loc,syn_label='g_AMPA'):\n",
        "    # Input arguments:\n",
        "    #   cell - Cell model object\n",
        "    #   gsyn_vec - Vector of conductance over time\n",
        "    #   x_loc - x position to plot dendritic voltage (between 0 and 1)\n",
        "    #   syn_label - string yaxis label to use for conductance\n",
        "    \n",
        "    # Run simulation\n",
        "    h.run()\n",
        "\n",
        "    # Plot\n",
        "    fig = plt.figure(figsize=(10,8))\n",
        "    # Plot voltage\n",
        "    ax = fig.add_subplot(3,1,1) \n",
        "    ax.plot(t_vec,cell.soma_v-cell.soma_v[0],label='soma')\n",
        "    ax.plot(t_vec,cell.dend_vs[xind(dend_x_vals,x_loc)]-cell.dend_vs[xind(dend_x_vals,x_loc)][0],label='dend({:.1f})'.format(x_loc))\n",
        "    ax.set_ylabel('Vm (mV)')\n",
        "    ax.legend()\n",
        "    # Plot membrane currents\n",
        "    ax = fig.add_subplot(3,1,2)\n",
        "    ax.plot(t_vec,cell.soma_im,label='soma')\n",
        "    ax.plot(t_vec,cell.dend_ims[xind(dend_x_vals,x_loc)],label='dend(:.1f)'.format(x_loc)) # convert to current in pA with cell.dend(x).area()*10\n",
        "    ax.set_ylabel('Im (mA/cm2)') \n",
        "    # Plot synaptic conductance \n",
        "    ax = fig.add_subplot(3,1,3) \n",
        "    ax.plot(t_vec,gsyn_vec*1e3)\n",
        "    ax.set_ylabel('{} (nS)'.format(syn_label))\n",
        "    ax.set_xlabel('time (ms)')"
      ]
    },
    {
      "attachments": {},
      "cell_type": "markdown",
      "metadata": {},
      "source": [
        "Let's test out our model. Below, set the time step to $0.025 \\; ms$, duration to $60 \\; ms$, temperature to $37^{\\circ} C$, and initial voltage to the soma's reversal potential. Look at previous exercises if you need a reminder on the names of these variables. Then, use `run_and_plot` to visualize the model's response."
      ]
    },
    {
      "cell_type": "code",
      "execution_count": null,
      "metadata": {},
      "outputs": [],
      "source": [
        "ampa_syn.loc(cell.dend(0.5)) # move synapse back to middle of the dendrite\n",
        "\n",
        "# Set simulation parameters\n",
        "\n",
        "\n",
        "# Call run_and_plot\n"
      ]
    },
    {
      "attachments": {},
      "cell_type": "markdown",
      "metadata": {},
      "source": [
        "<span style=\"color:red\">**Q2**:\n",
        "How does the time course of the synaptic conductance compare to the postsynaptic potential at the location of the synapse? What properties of the cell membrane (not the synapse) govern how fast the membrane voltage can change in time in response to a synaptic input? (hint: there are multiple right answers. You can try also adjusting them above to test for yourself).\n",
        "</span>"
      ]
    },
    {
      "attachments": {},
      "cell_type": "markdown",
      "metadata": {},
      "source": []
    },
    {
      "attachments": {},
      "cell_type": "markdown",
      "metadata": {},
      "source": [
        "<span style=\"color:red\">**Q3**:\n",
        "How does the time course of the excitatory postsynaptic potential (EPSP) differ between the soma and the location of the synapse? \n",
        "</span>"
      ]
    },
    {
      "attachments": {},
      "cell_type": "markdown",
      "metadata": {},
      "source": []
    },
    {
      "attachments": {},
      "cell_type": "markdown",
      "metadata": {},
      "source": [
        "Now that we have some intuition for a baseline condition in which a single EPSP was applied, generating ~1.5 mV peak potential in the soma. Let's explore some key properties of conductance based synapses. First, we'll address the question is the voltage change generated by a synapse linear to the synaptic weight? Or, an equivalent way of asking this question is if the voltage change is linear to the number of synapses activated. This is because we can model multiple, synchronous synapses at the same compartment as the summation of each of their conductances (think of adding more conductances in our parallel conductance model). \n",
        "\n",
        "To answer this, we'll run the same simulation we ran above in a loop while varying the synaptic weight and measuring the voltage traces at the soma. We can then extract the peak of the EPSP to assess the magnitude of postsynaptic voltage change. Since we'll do a couple experiments like this in which we sweep over a variable and extract voltage recordings and peak PSPs, I've written `plot_PSP_sweep` to plot the postsynaptic potential traces overlaid and the peak PSP vs. the variable we're changing (in this case the synaptic weight). "
      ]
    },
    {
      "cell_type": "code",
      "execution_count": null,
      "metadata": {},
      "outputs": [],
      "source": [
        "def plot_PSP_sweep(V_vecs,peakPSPs,x,x_label,y_label,x_label_str,legend_on=True):\n",
        "    # Plot PSP recordings and peak PSP vs. some variable x\n",
        "    # Input arguments:\n",
        "    #   V_vecs - list of Vectors of voltage recordings at each value of x\n",
        "    #   peakPSPs - list or array of peak postsynaptic potentials at each value of x\n",
        "    #   x - list or array of values for parameter being varied in each simulation\n",
        "    #   x_label - string for x-axis label of parameter being varied\n",
        "    #   x_label_str - string with one {} placeholder for values to be used with .format() below, e.g. 'weight = {:.1f}'\n",
        "    #   legend_on - True or False. Controls display of legend in first subplot\n",
        "    fig = plt.figure()\n",
        "    ax = fig.add_subplot(2,1,1)\n",
        "    for v,xi in zip(V_vecs,x):\n",
        "        ax.plot(t_vec,v-v[0],label=x_label_str.format(xi))\n",
        "    ax.set_xlabel('time (ms)')\n",
        "    ax.set_ylabel(y_label)\n",
        "    if legend_on:\n",
        "        ax.legend()\n",
        "    ax = fig.add_subplot(2,1,2)\n",
        "    ax.plot(x,peakPSPs)\n",
        "    ax.set_xlabel(x_label)\n",
        "    ax.set_ylabel('Peak PSP (mV)')\n",
        "    fig.tight_layout()"
      ]
    },
    {
      "attachments": {},
      "cell_type": "markdown",
      "metadata": {},
      "source": [
        "Fill in the code block below to sweep over a range of weights from 0.1 to 100 and plot the output. You can turn off the legend if it gets crowded by setting `legend_on` to `False`."
      ]
    },
    {
      "cell_type": "code",
      "execution_count": null,
      "metadata": {},
      "outputs": [],
      "source": [
        "weight_vec =  # your code goes here\n",
        "\n",
        "ampa_syn.loc(cell.dend(0.5)) # reposition at x = 0.5\n",
        "\n",
        "soma_V_vecs = [] #store soma voltage recordings\n",
        "soma_peakEPSPs = [] # store soma peak EPSPs\n",
        "synloc_V_vecs = [] # store EPSP at location of synapse \n",
        "synloc_peakEPSPs = [] # store synapse peak EPSPs\n",
        "for w in weight_vec:    \n",
        "    nc_estim.weight[0] =  # fill in code here      \n",
        "    print('Set weight to {:.1f}, x = {:.1f}'.format(nc_estim.weight[0],ampa_syn.get_loc()))    \n",
        "    h.run()\n",
        "    soma_V_veci = cell.soma_v.to_python(np.zeros(len(cell.soma_v)))\n",
        "    soma_V_vecs.append(soma_V_veci) # compute EPSP by subtracting baseline\n",
        "    soma_peakEPSPs.append(soma_V_veci.max()-soma_V_veci[xind(t_vec,estim.start)])\n",
        "    \n",
        "soma_peakEPSPs = np.array(soma_peakEPSPs)\n",
        "synloc_peakEPSPs = np.array(synloc_peakEPSPs)\n",
        "\n",
        "nc_estim.weight[0] = 1 # reset weight to 1\n",
        "\n",
        "plot_PSP_sweep(soma_V_vecs,soma_peakEPSPs,weight_vec,'Synaptic weight','Soma EPSP (mV)','weight = {:.1f}')"
      ]
    },
    {
      "attachments": {},
      "cell_type": "markdown",
      "metadata": {},
      "source": [
        "<span style=\"color:red\">**Q4**:\n",
        "Is the peak PSP linear with respect to synaptic weight? What happens to the peak EPSP at higher synaptic weights?\n",
        "</span>"
      ]
    },
    {
      "attachments": {},
      "cell_type": "markdown",
      "metadata": {},
      "source": []
    },
    {
      "attachments": {},
      "cell_type": "markdown",
      "metadata": {},
      "source": [
        "<span style=\"color:red\">**Q5**:\n",
        "Can you extrapolate from this to predict how two synchronous EPSPs would sum when at the same location vs. at different locations, i.e. how would the total EPSP compare to the sum of the two individual EPSPs if they had occurred in isolation.\n",
        "</span>"
      ]
    },
    {
      "attachments": {},
      "cell_type": "markdown",
      "metadata": {},
      "source": []
    },
    {
      "attachments": {},
      "cell_type": "markdown",
      "metadata": {},
      "source": [
        "## Effect of synapse location\n",
        "\n",
        "Next, we'll look at how the location of the synapse affects the shape and magnitude of the EPSP. \n",
        "\n",
        "Below, try moving the synapse to 5 locations between `x = 0.1` and `0.9` in the dendrite (`cell.dend`) in a `for` loop and saving both the somatic voltage recordings/peak EPSPs and dendritic recordings/peak EPSP (at the site of the synapse). You can copy the code structure we used above, changing variable name as needed. \n",
        "\n",
        "Then, use `plot_PSP_sweep` to plot the voltage traces and peak EPSP vs. position for the soma and dendrite. \n",
        "\n",
        "Now try moving the synapse. How does the shape and amplitude of the EPSP at the soma change as a function of distance?"
      ]
    },
    {
      "cell_type": "code",
      "execution_count": null,
      "metadata": {},
      "outputs": [],
      "source": [
        "# Your code goes here\n",
        "syn_locs =  # normalized distance within dendrite\n",
        "\n",
        "# Initialize lists to starte vectors and EPSPs\n",
        "syn_dists = [] # store distance in um\n",
        "soma_V_vecs = [] #store soma voltage recordings\n",
        "soma_peakEPSPs = [] # store soma peak EPSPs\n",
        "synloc_V_vecs = [] # store EPSP at location of synapse \n",
        "synloc_peakEPSPs = []\n",
        "for x in syn_locs:    \n",
        "    # Move synapse to cell.dend(x)\n",
        "    \n",
        "    # your code goes here\n",
        "    \n",
        "    distx = ampa_syn.get_loc()*cell.dend.L\n",
        "    syn_dists.append(distx)\n",
        "    print('Moved synapse to x = {:.1f}, dist = {:.1f} um'.format(ampa_syn.get_loc(),distx))    \n",
        "    h.run()\n",
        "    # Your code goes here\n",
        "    # Store recording vectors\n",
        "\n",
        "ampa_syn.loc(cell.dend(0.5)) # return synapse to middle of dendrite\n",
        "soma_peakEPSPs = np.array(soma_peakEPSPs)\n",
        "synloc_peakEPSPs = np.array(synloc_peakEPSPs)\n",
        "\n",
        "x_label = 'Distance from soma (um)'\n",
        "x_label_str = 'x = {:.0f} um'\n",
        "\n",
        "# Plot\n",
        "plot_PSP_sweep(soma_V_vecs,soma_peakEPSPs,syn_dists,'Distance from soma (um)','Soma EPSP (mV)','x = {:.0f} um',legend_on=False)\n",
        "plot_PSP_sweep(synloc_V_vecs,synloc_peakEPSPs,syn_dists,'Distance from soma (um)','Synapse EPSP (mV)','x = {:.0f} um',legend_on=False)"
      ]
    },
    {
      "attachments": {},
      "cell_type": "markdown",
      "metadata": {},
      "source": [
        "<span style=\"color:red\">**Q6**:\n",
        "How does the somatic EPSP amplitude and shape change as the synapse is moved to more distant locations? \n",
        "</span>"
      ]
    },
    {
      "attachments": {},
      "cell_type": "markdown",
      "metadata": {},
      "source": []
    },
    {
      "attachments": {},
      "cell_type": "markdown",
      "metadata": {},
      "source": [
        "<span style=\"color:red\">**Q7**:\n",
        "How does the local dendritic EPSP amplitude change as the synapse is moved to more distant locations? Explain why this occurs in terms of the input resistance.\n",
        "</span>"
      ]
    },
    {
      "attachments": {},
      "cell_type": "markdown",
      "metadata": {},
      "source": []
    },
    {
      "attachments": {},
      "cell_type": "markdown",
      "metadata": {},
      "source": [
        "One useful measure is the ratio of the peak EPSP at the dendritic location vs. at the soma (where the voltage needs to reach threshold to initiate an action potential), also known as the voltage *attenuation*. Using the variables you generated above, plot the ratio of soma peak EPSP to dendritic peak EPSP vs. distance from soma."
      ]
    },
    {
      "cell_type": "code",
      "execution_count": null,
      "metadata": {},
      "outputs": [],
      "source": [
        "# Plot ratio of peak EPSP at dendrite vs soma\n",
        "# Your code goes here\n",
        "\n",
        "    "
      ]
    },
    {
      "attachments": {},
      "cell_type": "markdown",
      "metadata": {},
      "source": [
        "<span style=\"color:red\">**Q8**:\n",
        "What cable parameters would reduce the EPSP attenuation (i.e., increase the somatic EPSP for distal inputs)? (there are multiple possible answers)\n",
        "</span>"
      ]
    },
    {
      "attachments": {},
      "cell_type": "markdown",
      "metadata": {},
      "source": []
    },
    {
      "attachments": {},
      "cell_type": "markdown",
      "metadata": {},
      "source": [
        "# Shunting inhibition\n",
        "\n",
        "Inhibitory synapses suppress the excitability of target cells, but the nature of this suppression depends on when and where they occur, as well as what aspect of the postsynaptic neuron's activity we look at. One important mechanism is called *shunting inhibition* which can have a divisive or subtractive effect on the postsynaptic neuron. We'll explore this phenomonon below.\n",
        "\n",
        "First, let's make a GABA<sub>A</sub>  inhibitory synapse, which is the major inhibitory neurotransmitter in the brain. We'll use a similar synaptic mechanism as the `ProbAMPANMDA.mod` mechanism we used above, this time called `ProbGABAA`. It works exactly the same way, except it only contains the GABA<sub>A</sub> current. Note: we could have used the same membrane mechanism as above and altered the rise and decay time constants and the reversal potentials to achieve the same synaptic conductance, since the underlying equations are the same. \n",
        "\n",
        "Fill in the code below to create an inhibitory synapse at `x = 0.5`. Set the rise and decay time constants to $0.2 \\; ms$ and $8 \\;  ms$, and reversal potential to $-70 \\; mV$. We'll also move our excitatory synapse back to that location. \n",
        "\n",
        "As we did above, create a `NetStim` object called `istim`, a `NetCon` object called `nc_istim` with `delay = 1` and `weight = 1`. The last two lines create recording vectors for the GABA<sub>A</sub> synaptic conductance and current. "
      ]
    },
    {
      "cell_type": "code",
      "execution_count": null,
      "metadata": {},
      "outputs": [],
      "source": [
        "# fill in code here\n",
        "syn_x_loc = 0.5\n",
        "gabaa_syn = h.ProbGABAA(cell.dend(syn_x_loc))\n",
        "\n",
        "\n",
        "ampa_syn.loc(syn_x_loc) # move excitatory synapse back to this location\n",
        "\n",
        "# Create NetStim object to generate artificial presynaptic events\n",
        "\n",
        "\n",
        "# Create NetCon object to connect the netstim presynaptic events to the postsynaptic conductance\n",
        "nc_istim = h.NetCon() # fill in argument here \n",
        "# set parameters here\n",
        "\n",
        "# Recording vectors\n",
        "ggabaa_vec = h.Vector().record(gabaa_syn._ref_g) # record gabaa conductance\n",
        "igabaa_vec = h.Vector().record(gabaa_syn._ref_i) # record gabaa conductance"
      ]
    },
    {
      "attachments": {},
      "cell_type": "markdown",
      "metadata": {},
      "source": [
        "Let's first look at the effect of the inhibitory synapse in isolation. \n",
        "Below, turn off the excitatory synapse by setting its associated `NetStim`'s weight to 0, use the inhibitory synapse's `NetStim` to evoke an IPSP at $5 \\; ms$. Then, use `run_and_plot` to plot the inhibitory postsynaptic potential (IPSP), current, and conductance."
      ]
    },
    {
      "cell_type": "code",
      "execution_count": null,
      "metadata": {},
      "outputs": [],
      "source": [
        "# Specify NetStim parameters\n",
        "# fill in code below\n",
        "istim.number =  # number of spikes\n",
        "istim.start =  # time of 1st spike (ms)\n",
        "istim.noise =  # randomness, set to 0 for deterministic, 1 for random (Poisson process)\n",
        "\n",
        "# turn of excitatory synapse here\n",
        "\n",
        "# Fill in arguments for run_and_plot\n",
        "run_and_plot()\n",
        "\n",
        "nc_estim.weight[0] = 1 # reset excitatory synapse weight here\n"
      ]
    },
    {
      "attachments": {},
      "cell_type": "markdown",
      "metadata": {},
      "source": [
        "<span style=\"color:red\">**Q9**:\n",
        "Why is there a conductance change but no membrane current or IPSP? (Hint: $I_{syn} = g_{syn}(V - E_{syn})$)\n",
        "</span>"
      ]
    },
    {
      "attachments": {},
      "cell_type": "markdown",
      "metadata": {},
      "source": []
    },
    {
      "attachments": {},
      "cell_type": "markdown",
      "metadata": {},
      "source": [
        "It appears that our inhibitory synapse is *silent*, in that it has no effect on the postynaptic voltage. Hopefully, you discussed in your answer above why this occurs in our specific scenario, which should imply this isn't always the case. But let's continue to explore the impact of this so-called silent synapse on excitatory inputs that arrive at the same time. \n",
        "\n",
        "Below, we'll use a similar loop to the two we did in the previous section to test the effect of inhibitory weight on the EPSP generated by an excitatory input. \n",
        "\n",
        "With the weight of the excitatory synapse fixed to 1, vary the weight of the inhibitory synapse from 0 to 100 and record the somatic voltage and peak EPSPs (as we did above). Both synapses should be placed at the middle of the dendrite (`x = 0.5`). Then, use `plot_PSP_sweep` to visualize the somatic voltage traces and peak EPSP vs. inhibitory weight. "
      ]
    },
    {
      "cell_type": "code",
      "execution_count": null,
      "metadata": {},
      "outputs": [],
      "source": [
        "nc_estim.weight[0] = 1\n",
        "weight_vec =  # generate vector of inhibitory weights\n",
        "\n",
        "soma_V_vecs = [] #store soma voltage recordings\n",
        "soma_peakEPSPs = [] # store soma peak EPSPs\n",
        "ampa_syn.loc(cell.dend(syn_x_loc))\n",
        "gabaa_syn.loc(cell.dend(syn_x_loc))\n",
        "\n",
        "for w in weight_vec:    \n",
        "    # change inhibitory weight\n",
        "    \n",
        "    print('Set GABAA weight to {:.1f}, x = {:.1f}'.format(nc_istim.weight[0],gabaa_syn.get_loc()))    \n",
        "    h.run()\n",
        "    soma_V_veci = cell.soma_v.to_python(np.zeros(len(cell.soma_v)))\n",
        "    soma_V_vecs.append(soma_V_veci-soma_V_veci[xind(t_vec,estim.start)]) # subtract baseline\n",
        "    soma_peakEPSPs.append(soma_V_veci.max()-soma_V_veci[xind(t_vec,estim.start)])\n",
        "    \n",
        "soma_peakEPSPs = np.array(soma_peakEPSPs)\n",
        "\n",
        "nc_istim.weight[0] = 1 # reset back to 1 \n",
        "istim.start = 5 # reset back to 5 ms\n",
        "estim.start = 5 # reset back to 5 ms\n",
        "\n",
        "# fill in arguments of plot_PSP_sweep\n",
        "plot_PSP_sweep()"
      ]
    },
    {
      "attachments": {},
      "cell_type": "markdown",
      "metadata": {},
      "source": [
        "You should see the PSP decrease in size with increasing GABA weight. You've just demonstrated the principle of shunting inhibition! Despite having no independent effect on the postsynaptic potential, the inhibitory synapse is able to suppress the effect of an excitatory input. Interestingly, the strength of inhibition is not linear with respect to the strength of the inhibitory synapse, with  a $1/g_{GABAA}$ relationship. In this way, the combination of the inhibitory and excitatory synapse implements a form of *division* as the postsynaptic voltage is roughly proportional to the ratio of the excitatory and inhibitory conductance ($V \\propto g_{AMPA}/g_{GABAA}$), particularly as the inhibitory conductance becomes much larger than the excitatory conductance."
      ]
    },
    {
      "attachments": {},
      "cell_type": "markdown",
      "metadata": {},
      "source": [
        "<span style=\"color:red\">**Q10**:\n",
        "How would the spatial or temporal alignment of the excitatory and inhibitory inputs affect the degree of division by the inhibitory synapse? To help you answer this question, try modifying the timing (`istim.start`) or location (`gabaa_syn.loc(cell.dend(x))`) of the synapses in the code block above and regenerating your plots. \n",
        "</span>\n",
        "\n",
        "<span style=\"color:red\">\n",
        "Bonus: Compare the situation in which the inhibitory conductance is more proximal (closer to the soma) than the excitatory synapse to the situation in which its more distal (further from the soma) than the excitatory synapse. In which situation does the inhibitory synapse have more influence on the EPSP?\n",
        "</span>"
      ]
    },
    {
      "attachments": {},
      "cell_type": "markdown",
      "metadata": {},
      "source": [
        "<span style=\"color:red\">\n",
        "Separating the synapses in space and time reduces the degree of division generated by the inhibitory conductance on the EPSP. The synaptic conductance should substantially overlap in time with the EPSP to impact its peak. <br> <br>\n",
        "For the inhibitory synapse to have maximal impact on the EPSP it should either colocalized or proximal to the excitatory synapse. In contrast, if it is more distal, it has minimal effect on the EPSP.\n",
        "</span>"
      ]
    },
    {
      "attachments": {},
      "cell_type": "markdown",
      "metadata": {},
      "source": [
        "So we've demonstrated how shunting inhibition can have a divisive effect on postsynaptic voltage, but what about the firing rate? A widely held, but still hotly debated view, is that neuron's encode and transmit information in their firing rates. So it would seem crucial to also understand how inhibitory synapses affect the neuron's firing rate.\n",
        "\n",
        "To address this, we'll create another `BallAndStick` model, but this time incorporating the leaky-integrate-and-fire mechanism (borrowed from Exercise 5). We'd like to know how the input-output properties of the neuron are altered in the presence of shunting inhibition. As we did before, we'll characterize this using the *frequency-input* curve by measuring the firing rate (in Hz) as a function of constant current input. We could use excitatory synaptic inputs instead but things unnecessarily complicated for now.\n",
        "\n",
        "Below, create a new cell called `lif_cell` with the `BallAndStick` class. Make sure to give it `'LIF'` for the second argument (the first argument, `gid`, doesn't matter so you can set it to whatever you want). \n",
        "\n",
        "Then, add a current clamp called `iclamp2` to the soma and a GABAergic synapse called `gabaa_syn2` with identical properties as above (hint: the defaults are already what we want). For the current clamp, use a delay of $5 \\; ms$ and duration of $100 \\; ms$ (the amplitude will be set later)."
      ]
    },
    {
      "cell_type": "code",
      "execution_count": null,
      "metadata": {},
      "outputs": [],
      "source": [
        "lif_cell =  # includes LIF mechanism in soma\n",
        "\n",
        "# Current clamp settings\n",
        "iclamp2 =\n",
        "\n",
        "# Inhibitory synapse\n",
        "gabaa_syn2 = "
      ]
    },
    {
      "attachments": {},
      "cell_type": "markdown",
      "metadata": {},
      "source": [
        "Now, we need to generate presynaptic inputs to drive the inhibitory synapse and connect it to the postsynaptic conductance. \n",
        "\n",
        "Create a `NetStim` called `istim2` to generate the presynaptic inputs. We'll make use of the other parameters of the `NetStim` to generate a train of inhibitory synaptic inputs at $100 \\; Hz$ (100 per second) by setting the `interval` to $10 \\; ms$ and `number` to some arbitrarily big number (`1e6` sounds good). Start the synaptic inputs at $0 \\; ms$. This may seem high, but keep in mind, neurons receive thousands of synaptic inputs, all of which may be individually firing at ~1-20 Hz on average. Together, that would generate many thousands of synaptic events per second distributed throughout the dendritic tree. \n",
        "\n",
        "Lastly, create a `NetCon` called `nc_istim2` that connects `istim2` (pre) to `gabaa_syn2` (post) with `delay = 1` and `weight[0] = 1`. "
      ]
    },
    {
      "cell_type": "code",
      "execution_count": null,
      "metadata": {},
      "outputs": [],
      "source": [
        "# Create NetStim object to generate artificial presynaptic events\n",
        "\n",
        "\n",
        "# Specify NetStim parameters\n",
        "istim2.number =  # number of spikes\n",
        "istim2.interval =  # 100 Hz \n",
        "istim2.start =  # time of 1st spike (ms)\n",
        "istim2.noise =  # randomness, set to 0 for deterministic, 1 for random (Poisson process)\n",
        "\n",
        "# Create NetCon object to connect the netstim presynaptic events to the postsynaptic conductance\n",
        "nc_istim2 = "
      ]
    },
    {
      "attachments": {},
      "cell_type": "markdown",
      "metadata": {},
      "source": [
        "Let's first run a simulation to see the firing behavior of our neuron in the absence of inhibition. Use the code block below to apply a $0.5 \\; nA$ pulse. \n",
        "\n",
        "Run the simulation for $100 \\; ms$ with an initial voltage of $-70 \\; mV$. "
      ]
    },
    {
      "cell_type": "code",
      "execution_count": null,
      "metadata": {},
      "outputs": [],
      "source": [
        "# Current injection parameters\n",
        "iclamp2.amp = 0.5 # nA\n",
        "\n",
        "# Inhibitory synapse parameters\n",
        "nc_istim2.weight[0] = 0\n",
        "\n",
        "h.tstop = \n",
        "h.v_init = \n",
        "h.run()\n",
        "\n",
        "fig = plt.figure()\n",
        "ax = fig.add_subplot(111)\n",
        "ax.plot(t_vec,lif_cell.soma_v)\n",
        "ax.vlines(lif_cell.spike_times.to_python(np.zeros(len(lif_cell.spike_times))),ymin=lif_cell.soma(0.5).e_pas,ymax=40,colors='r');\n",
        "ax.set_xlabel('time (ms)')\n",
        "ax.set_ylabel('Vm (mV)')"
      ]
    },
    {
      "attachments": {},
      "cell_type": "markdown",
      "metadata": {},
      "source": [
        "You should see about $13$ APs over the $100 \\; ms$ simulation, indicating a firing rate $\\approx 130 \\; Hz$. "
      ]
    },
    {
      "attachments": {},
      "cell_type": "markdown",
      "metadata": {},
      "source": [
        "Now, use the `simFIcurve` function below to generate a family of F–I curves as you vary the weight of the inhibitory synapse and plot the F-I curves on the same axes. For the F–I curves, vary the current amplitude between $0$ and $1.5 \\; nA$ for inhibitory weights of 0 to 50 in steps of 10. This may take some time (<30 sec), depending on how many steps you use in your F-I curve. "
      ]
    },
    {
      "cell_type": "code",
      "execution_count": null,
      "metadata": {},
      "outputs": [],
      "source": [
        "def simFIcurve(cell,iclamp,curr_amps):\n",
        "    # Runs simulation and saves firing frequency \n",
        "    # Note: frequency calculated using duration of current clamp, if tstop < iclamp.dur this will underestimate firing rate    \n",
        "    # Input arguments\n",
        "    #   cell - cell model object\n",
        "    #   iclamp - IClamp object\n",
        "    #   curr_amps - list/array of current amplitudes to set iclamp.amp\n",
        "    F_vec = []\n",
        "    for amp in curr_amps:\n",
        "        iclamp.amp = amp\n",
        "        h.run()\n",
        "        F_vec.append(len(cell.spike_times)/(iclamp.dur*1e-3))# Frequency in Hz\n",
        "    \n",
        "    return F_vec\n",
        "\n",
        "# Your code goes here\n",
        "curr_amps = \n",
        "weight_vec = \n",
        "\n",
        "\n",
        "# Loop over weights and generate frequency vectors \n",
        "F_vecs = []\n",
        "for w in weight_vec:\n",
        "    # set nc_istim2.weight[0] weight\n",
        "    \n",
        "    # run simFIcurve and output F_vec\n",
        "    \n",
        "    # append F_vec to F_vecs list\n",
        "    \n",
        "    \n",
        "# Plot\n",
        "fig = plt.figure()\n",
        "ax = fig.add_subplot(111)\n",
        "# use for loop and zip to plot each F_vec in F_vecs and label with corresponding current amplitude (in curr_amps)\n",
        "# use label = 'g_GABAA = {}'.format(curr_amp) as one of th earguments in ax.plot\n",
        "\n",
        "ax.set_xlabel('Current (nA)')\n",
        "ax.set_ylabel('Frequency (Hz)')\n",
        "ax.legend();"
      ]
    },
    {
      "attachments": {},
      "cell_type": "markdown",
      "metadata": {},
      "source": [
        "<span style=\"color:red\">**Q10**:\n",
        "Did increasing the inhibitory weight (conductance) have a divisive or subtractive effect on the F-I curves? Hint: to answer this, how would you modify/shift one curve to make it resemble the others?\n",
        "</span>"
      ]
    },
    {
      "attachments": {},
      "cell_type": "markdown",
      "metadata": {},
      "source": []
    }
  ],
  "metadata": {
    "colab": {
      "include_colab_link": true,
      "provenance": [],
      "toc_visible": true
    },
    "kernelspec": {
      "display_name": "cmns_env",
      "language": "python",
      "name": "python3"
    },
    "language_info": {
      "codemirror_mode": {
        "name": "ipython",
        "version": 3
      },
      "file_extension": ".py",
      "mimetype": "text/x-python",
      "name": "python",
      "nbconvert_exporter": "python",
      "pygments_lexer": "ipython3",
      "version": "3.9.16"
    },
    "vscode": {
      "interpreter": {
        "hash": "d0488761690764cced0e7b1e141a742f06ea2f3fa8f54952eb1b54a94bfd6a2a"
      }
    }
  },
  "nbformat": 4,
  "nbformat_minor": 0
}
